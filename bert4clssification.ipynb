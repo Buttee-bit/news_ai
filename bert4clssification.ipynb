{
  "nbformat": 4,
  "nbformat_minor": 0,
  "metadata": {
    "colab": {
      "provenance": [],
      "gpuType": "T4"
    },
    "kernelspec": {
      "name": "python3",
      "display_name": "Python 3"
    },
    "language_info": {
      "name": "python"
    },
    "accelerator": "GPU"
  },
  "cells": [
    {
      "cell_type": "markdown",
      "metadata": {
        "id": "kvkgktk9EUut"
      },
      "source": [
        "Get data from github"
      ]
    },
    {
      "cell_type": "code",
      "metadata": {
        "id": "pbiccyZg6-kE",
        "colab": {
          "base_uri": "https://localhost:8080/"
        },
        "outputId": "f6e61373-1603-4c1c-97a8-dab864c7915d"
      },
      "source": [
        "# !wget https://raw.githubusercontent.com/shitkov/bert4classification/main/train.csv\n",
        "# !wget https://raw.githubusercontent.com/shitkov/bert4classification/main/valid.csv\n",
        "# !wget https://raw.githubusercontent.com/shitkov/bert4classification/main/test.csv\n",
        "!wget https://raw.githubusercontent.com/shitkov/bert4classification/main/bert_classifier.py\n",
        "!wget https://raw.githubusercontent.com/shitkov/bert4classification/main/bert_dataset.py\n",
        "!wget https://raw.githubusercontent.com/shitkov/bert4classification/main/requirements.txt"
      ],
      "execution_count": 1,
      "outputs": [
        {
          "output_type": "stream",
          "name": "stdout",
          "text": [
            "--2023-09-16 22:00:45--  https://raw.githubusercontent.com/shitkov/bert4classification/main/bert_classifier.py\n",
            "Resolving raw.githubusercontent.com (raw.githubusercontent.com)... 185.199.108.133, 185.199.109.133, 185.199.110.133, ...\n",
            "Connecting to raw.githubusercontent.com (raw.githubusercontent.com)|185.199.108.133|:443... connected.\n",
            "HTTP request sent, awaiting response... 200 OK\n",
            "Length: 5278 (5.2K) [text/plain]\n",
            "Saving to: ‘bert_classifier.py’\n",
            "\n",
            "\rbert_classifier.py    0%[                    ]       0  --.-KB/s               \rbert_classifier.py  100%[===================>]   5.15K  --.-KB/s    in 0s      \n",
            "\n",
            "2023-09-16 22:00:45 (43.6 MB/s) - ‘bert_classifier.py’ saved [5278/5278]\n",
            "\n",
            "--2023-09-16 22:00:45--  https://raw.githubusercontent.com/shitkov/bert4classification/main/bert_dataset.py\n",
            "Resolving raw.githubusercontent.com (raw.githubusercontent.com)... 185.199.108.133, 185.199.110.133, 185.199.109.133, ...\n",
            "Connecting to raw.githubusercontent.com (raw.githubusercontent.com)|185.199.108.133|:443... connected.\n",
            "HTTP request sent, awaiting response... 200 OK\n",
            "Length: 891 [text/plain]\n",
            "Saving to: ‘bert_dataset.py’\n",
            "\n",
            "bert_dataset.py     100%[===================>]     891  --.-KB/s    in 0s      \n",
            "\n",
            "2023-09-16 22:00:45 (57.8 MB/s) - ‘bert_dataset.py’ saved [891/891]\n",
            "\n",
            "--2023-09-16 22:00:45--  https://raw.githubusercontent.com/shitkov/bert4classification/main/requirements.txt\n",
            "Resolving raw.githubusercontent.com (raw.githubusercontent.com)... 185.199.109.133, 185.199.108.133, 185.199.111.133, ...\n",
            "Connecting to raw.githubusercontent.com (raw.githubusercontent.com)|185.199.109.133|:443... connected.\n",
            "HTTP request sent, awaiting response... 200 OK\n",
            "Length: 103 [text/plain]\n",
            "Saving to: ‘requirements.txt’\n",
            "\n",
            "requirements.txt    100%[===================>]     103  --.-KB/s    in 0s      \n",
            "\n",
            "2023-09-16 22:00:45 (4.78 MB/s) - ‘requirements.txt’ saved [103/103]\n",
            "\n"
          ]
        }
      ]
    },
    {
      "cell_type": "markdown",
      "metadata": {
        "id": "JasJclP8E3qG"
      },
      "source": [
        "Installing Packages"
      ]
    },
    {
      "cell_type": "code",
      "metadata": {
        "id": "ASlmsIsJE4L2"
      },
      "source": [
        "!pip install -r /content/requirements.txt"
      ],
      "execution_count": null,
      "outputs": []
    },
    {
      "cell_type": "code",
      "metadata": {
        "id": "-tsq1G0m7sdr"
      },
      "source": [
        "import pandas as pd"
      ],
      "execution_count": 8,
      "outputs": []
    },
    {
      "cell_type": "code",
      "source": [
        "data = pd.read_csv('/content/train.csv', encoding='utf-8')"
      ],
      "metadata": {
        "id": "L3QNHQ90ocPk"
      },
      "execution_count": 9,
      "outputs": []
    },
    {
      "cell_type": "code",
      "source": [
        "data.shape"
      ],
      "metadata": {
        "colab": {
          "base_uri": "https://localhost:8080/"
        },
        "id": "3C1twP0xom95",
        "outputId": "d65e17de-957e-41a7-9e84-2fc3ef7b96c0"
      },
      "execution_count": 10,
      "outputs": [
        {
          "output_type": "execute_result",
          "data": {
            "text/plain": [
              "(7240, 2)"
            ]
          },
          "metadata": {},
          "execution_count": 10
        }
      ]
    },
    {
      "cell_type": "code",
      "source": [
        "data = data.sample(frac=1)"
      ],
      "metadata": {
        "id": "PbZ8HlblCY1A"
      },
      "execution_count": 12,
      "outputs": []
    },
    {
      "cell_type": "code",
      "source": [
        "train_data = data[:6000]\n",
        "valid_data = data[6000:6600]\n",
        "test_data  = data[6600:]\n",
        "\n",
        "train_data.columns =['text', 'label']\n",
        "valid_data.columns =['text', 'label']\n",
        "test_data.columns =['text', 'label']"
      ],
      "metadata": {
        "id": "S-lf_kbzpTMT"
      },
      "execution_count": 13,
      "outputs": []
    },
    {
      "cell_type": "code",
      "metadata": {
        "id": "jSiGixRy-h2c"
      },
      "source": [
        "from bert_dataset import CustomDataset\n",
        "from bert_classifier import BertClassifier"
      ],
      "execution_count": 14,
      "outputs": []
    },
    {
      "cell_type": "markdown",
      "metadata": {
        "id": "xJtu_4PKFAxU"
      },
      "source": [
        "Initialize BERT classifier"
      ]
    },
    {
      "cell_type": "code",
      "metadata": {
        "id": "kFHabt8p_IY7",
        "colab": {
          "base_uri": "https://localhost:8080/"
        },
        "outputId": "e710ee0c-8be7-452e-8cd6-ccdc86577d55"
      },
      "source": [
        "classifier = BertClassifier(\n",
        "        model_path='cointegrated/rubert-tiny',\n",
        "        tokenizer_path='cointegrated/rubert-tiny',\n",
        "        n_classes=10,\n",
        "        epochs=10,\n",
        "        model_save_path='/content/bert_10_cat.pt'\n",
        ")"
      ],
      "execution_count": 16,
      "outputs": [
        {
          "output_type": "stream",
          "name": "stderr",
          "text": [
            "Some weights of BertForSequenceClassification were not initialized from the model checkpoint at cointegrated/rubert-tiny and are newly initialized: ['classifier.bias', 'classifier.weight']\n",
            "You should probably TRAIN this model on a down-stream task to be able to use it for predictions and inference.\n"
          ]
        }
      ]
    },
    {
      "cell_type": "markdown",
      "metadata": {
        "id": "5dc-F_9vFGb1"
      },
      "source": [
        "Prepare data and helpers for train and evlauation"
      ]
    },
    {
      "cell_type": "code",
      "metadata": {
        "id": "KoB7lDv_8AWe",
        "colab": {
          "base_uri": "https://localhost:8080/"
        },
        "outputId": "7be32c3f-41fe-4756-a9e4-6c6a5a1d46e5"
      },
      "source": [
        "classifier.preparation(\n",
        "        X_train=list(train_data['text']),\n",
        "        y_train=list(train_data['label']),\n",
        "        X_valid=list(valid_data['text']),\n",
        "        y_valid=list(valid_data['label'])\n",
        "    )"
      ],
      "execution_count": 17,
      "outputs": [
        {
          "output_type": "stream",
          "name": "stderr",
          "text": [
            "/usr/local/lib/python3.10/dist-packages/transformers/optimization.py:411: FutureWarning: This implementation of AdamW is deprecated and will be removed in a future version. Use the PyTorch implementation torch.optim.AdamW instead, or set `no_deprecation_warning=True` to disable this warning\n",
            "  warnings.warn(\n"
          ]
        }
      ]
    },
    {
      "cell_type": "markdown",
      "metadata": {
        "id": "eUVTfpC5FPsr"
      },
      "source": [
        "Train loop"
      ]
    },
    {
      "cell_type": "code",
      "metadata": {
        "colab": {
          "base_uri": "https://localhost:8080/"
        },
        "id": "Pj_RQTCB9dNJ",
        "outputId": "9e5d906e-288c-49b5-9df3-ae2b2adea5b7"
      },
      "source": [
        "classifier.train()"
      ],
      "execution_count": null,
      "outputs": [
        {
          "output_type": "stream",
          "name": "stdout",
          "text": [
            "Epoch 1/10\n"
          ]
        }
      ]
    },
    {
      "cell_type": "markdown",
      "metadata": {
        "id": "yPqZPcTmFTSd"
      },
      "source": [
        "Check test data"
      ]
    },
    {
      "cell_type": "code",
      "metadata": {
        "id": "B1jAxkTkBEMv"
      },
      "source": [
        "texts = list(test_data['text'])\n",
        "labels = list(test_data['label'])\n",
        "\n",
        "predictions = [classifier.predict(t) for t in texts]"
      ],
      "execution_count": null,
      "outputs": []
    },
    {
      "cell_type": "code",
      "metadata": {
        "id": "xhJosdy6Bn0o"
      },
      "source": [
        "from sklearn.metrics import precision_recall_fscore_support\n",
        "\n",
        "precision, recall, f1score = precision_recall_fscore_support(labels, predictions,average='macro')[:3]\n",
        "\n",
        "print(f'precision: {precision}, recall: {recall}, f1score: {f1score}')"
      ],
      "execution_count": null,
      "outputs": []
    },
    {
      "cell_type": "code",
      "source": [
        "classifier.predict('Создаём сложные 3D-модели по текстовому запросу')"
      ],
      "metadata": {
        "colab": {
          "base_uri": "https://localhost:8080/"
        },
        "id": "az-HKMVOOJp9",
        "outputId": "3d776d57-b548-48e3-abf7-b9afbdad8b44"
      },
      "execution_count": 47,
      "outputs": [
        {
          "output_type": "execute_result",
          "data": {
            "text/plain": [
              "1"
            ]
          },
          "metadata": {},
          "execution_count": 47
        }
      ]
    },
    {
      "cell_type": "code",
      "source": [
        "print(classifier.predict('Я люблю пиво'))\n",
        "print(classifier.predict('Я люблю тебя'))\n",
        "print(classifier.predict('Я люблю тебя'))\n",
        "print(classifier.predict('Я люблю тебя'))\n",
        "print(classifier.predict('Я люблю тебя'))\n",
        "print(classifier.predict('Я ненавижу тебя'))\n",
        "print(classifier.predict('Я ненавижу тебя'))\n",
        "print(classifier.predict('Я ненавижу тебя'))\n",
        "print(classifier.predict('Я ненавижу тебя'))\n",
        "print(classifier.predict('Я ненавижу тебя'))"
      ],
      "metadata": {
        "colab": {
          "base_uri": "https://localhost:8080/"
        },
        "id": "06M_ZAesW7Pv",
        "outputId": "a03963e4-1dd8-4610-8f00-33a7107af2eb"
      },
      "execution_count": 19,
      "outputs": [
        {
          "output_type": "stream",
          "name": "stdout",
          "text": [
            "1\n",
            "1\n",
            "1\n",
            "1\n",
            "1\n",
            "0\n",
            "0\n",
            "0\n",
            "0\n",
            "0\n"
          ]
        }
      ]
    },
    {
      "cell_type": "code",
      "source": [
        "import torch"
      ],
      "metadata": {
        "id": "saWcqswXdWIy"
      },
      "execution_count": 20,
      "outputs": []
    },
    {
      "cell_type": "code",
      "source": [
        "model = torch.load('/content/bert.pt')"
      ],
      "metadata": {
        "id": "vLyxC6erdHn5"
      },
      "execution_count": 21,
      "outputs": []
    },
    {
      "cell_type": "code",
      "source": [
        "classifier.model = model"
      ],
      "metadata": {
        "id": "nCo17HfXd-DH"
      },
      "execution_count": 23,
      "outputs": []
    },
    {
      "cell_type": "code",
      "source": [
        "print(classifier.predict('Я люблю пиво'))\n",
        "print(classifier.predict('Я люблю тебя'))\n",
        "print(classifier.predict('Я люблю тебя'))\n",
        "print(classifier.predict('Я люблю тебя'))\n",
        "print(classifier.predict('Я люблю тебя'))\n",
        "print(classifier.predict('Я ненавижу тебя'))\n",
        "print(classifier.predict('Я ненавижу тебя'))\n",
        "print(classifier.predict('Я ненавижу тебя'))\n",
        "print(classifier.predict('Я ненавижу тебя'))\n",
        "print(classifier.predict('Я ненавижу тебя'))"
      ],
      "metadata": {
        "colab": {
          "base_uri": "https://localhost:8080/"
        },
        "id": "he1Yzsu6eCJd",
        "outputId": "c4f1a62a-0526-483b-cbbc-b248dcb0b2f4"
      },
      "execution_count": 24,
      "outputs": [
        {
          "output_type": "stream",
          "name": "stdout",
          "text": [
            "1\n",
            "1\n",
            "1\n",
            "1\n",
            "1\n",
            "0\n",
            "0\n",
            "0\n",
            "0\n",
            "0\n"
          ]
        }
      ]
    }
  ]
}