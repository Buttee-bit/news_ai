{
  "cells": [
    {
      "cell_type": "markdown",
      "metadata": {
        "id": "kvkgktk9EUut"
      },
      "source": [
        "Get data from github"
      ]
    },
    {
      "cell_type": "code",
      "execution_count": 1,
      "metadata": {
        "colab": {
          "base_uri": "https://localhost:8080/"
        },
        "id": "pbiccyZg6-kE",
        "outputId": "f6e61373-1603-4c1c-97a8-dab864c7915d"
      },
      "outputs": [
        {
          "name": "stdout",
          "output_type": "stream",
          "text": [
            "--2023-09-16 22:00:45--  https://raw.githubusercontent.com/shitkov/bert4classification/main/bert_classifier.py\n",
            "Resolving raw.githubusercontent.com (raw.githubusercontent.com)... 185.199.108.133, 185.199.109.133, 185.199.110.133, ...\n",
            "Connecting to raw.githubusercontent.com (raw.githubusercontent.com)|185.199.108.133|:443... connected.\n",
            "HTTP request sent, awaiting response... 200 OK\n",
            "Length: 5278 (5.2K) [text/plain]\n",
            "Saving to: ‘bert_classifier.py’\n",
            "\n",
            "\rbert_classifier.py    0%[                    ]       0  --.-KB/s               \rbert_classifier.py  100%[===================>]   5.15K  --.-KB/s    in 0s      \n",
            "\n",
            "2023-09-16 22:00:45 (43.6 MB/s) - ‘bert_classifier.py’ saved [5278/5278]\n",
            "\n",
            "--2023-09-16 22:00:45--  https://raw.githubusercontent.com/shitkov/bert4classification/main/bert_dataset.py\n",
            "Resolving raw.githubusercontent.com (raw.githubusercontent.com)... 185.199.108.133, 185.199.110.133, 185.199.109.133, ...\n",
            "Connecting to raw.githubusercontent.com (raw.githubusercontent.com)|185.199.108.133|:443... connected.\n",
            "HTTP request sent, awaiting response... 200 OK\n",
            "Length: 891 [text/plain]\n",
            "Saving to: ‘bert_dataset.py’\n",
            "\n",
            "bert_dataset.py     100%[===================>]     891  --.-KB/s    in 0s      \n",
            "\n",
            "2023-09-16 22:00:45 (57.8 MB/s) - ‘bert_dataset.py’ saved [891/891]\n",
            "\n",
            "--2023-09-16 22:00:45--  https://raw.githubusercontent.com/shitkov/bert4classification/main/requirements.txt\n",
            "Resolving raw.githubusercontent.com (raw.githubusercontent.com)... 185.199.109.133, 185.199.108.133, 185.199.111.133, ...\n",
            "Connecting to raw.githubusercontent.com (raw.githubusercontent.com)|185.199.109.133|:443... connected.\n",
            "HTTP request sent, awaiting response... 200 OK\n",
            "Length: 103 [text/plain]\n",
            "Saving to: ‘requirements.txt’\n",
            "\n",
            "requirements.txt    100%[===================>]     103  --.-KB/s    in 0s      \n",
            "\n",
            "2023-09-16 22:00:45 (4.78 MB/s) - ‘requirements.txt’ saved [103/103]\n",
            "\n"
          ]
        }
      ],
      "source": [
        "!wget https://github.com/vvlrff/news_ai/tree/4u6urek/Data/Data.csv\n",
        "!wget https://github.com/vvlrff/news_ai/tree/4u6urek/Clussifier/bert_train_classifier.py\n",
        "!wget https://github.com/vvlrff/news_ai/tree/4u6urek/Clussifier/bert_dataset.py\n",
        "!wget https://github.com/vvlrff/news_ai/tree/4u6urek/requirements.txt"
      ]
    },
    {
      "cell_type": "markdown",
      "metadata": {
        "id": "JasJclP8E3qG"
      },
      "source": [
        "Installing Packages"
      ]
    },
    {
      "cell_type": "code",
      "execution_count": null,
      "metadata": {
        "id": "ASlmsIsJE4L2"
      },
      "outputs": [],
      "source": [
        "!pip install -r /content/requirements.txt"
      ]
    },
    {
      "cell_type": "code",
      "execution_count": 8,
      "metadata": {
        "id": "-tsq1G0m7sdr"
      },
      "outputs": [],
      "source": [
        "import pandas as pd"
      ]
    },
    {
      "cell_type": "code",
      "execution_count": 9,
      "metadata": {
        "id": "L3QNHQ90ocPk"
      },
      "outputs": [],
      "source": [
        "data = pd.read_csv('/content/train.csv', encoding='utf-8')"
      ]
    },
    {
      "cell_type": "code",
      "execution_count": 10,
      "metadata": {
        "colab": {
          "base_uri": "https://localhost:8080/"
        },
        "id": "3C1twP0xom95",
        "outputId": "d65e17de-957e-41a7-9e84-2fc3ef7b96c0"
      },
      "outputs": [
        {
          "data": {
            "text/plain": [
              "(7240, 2)"
            ]
          },
          "execution_count": 10,
          "metadata": {},
          "output_type": "execute_result"
        }
      ],
      "source": [
        "data.shape"
      ]
    },
    {
      "cell_type": "code",
      "execution_count": 12,
      "metadata": {
        "id": "PbZ8HlblCY1A"
      },
      "outputs": [],
      "source": [
        "data = data.sample(frac=1)"
      ]
    },
    {
      "cell_type": "code",
      "execution_count": 13,
      "metadata": {
        "id": "S-lf_kbzpTMT"
      },
      "outputs": [],
      "source": [
        "train_data = data[:6000]\n",
        "valid_data = data[6000:6600]\n",
        "test_data  = data[6600:]\n",
        "\n",
        "train_data.columns =['text', 'label']\n",
        "valid_data.columns =['text', 'label']\n",
        "test_data.columns =['text', 'label']"
      ]
    },
    {
      "cell_type": "code",
      "execution_count": 14,
      "metadata": {
        "id": "jSiGixRy-h2c"
      },
      "outputs": [],
      "source": [
        "from bert_dataset import CustomDataset\n",
        "from bert_classifier import BertClassifier"
      ]
    },
    {
      "cell_type": "markdown",
      "metadata": {
        "id": "xJtu_4PKFAxU"
      },
      "source": [
        "Initialize BERT classifier"
      ]
    },
    {
      "cell_type": "code",
      "execution_count": 16,
      "metadata": {
        "colab": {
          "base_uri": "https://localhost:8080/"
        },
        "id": "kFHabt8p_IY7",
        "outputId": "e710ee0c-8be7-452e-8cd6-ccdc86577d55"
      },
      "outputs": [
        {
          "name": "stderr",
          "output_type": "stream",
          "text": [
            "Some weights of BertForSequenceClassification were not initialized from the model checkpoint at cointegrated/rubert-tiny and are newly initialized: ['classifier.bias', 'classifier.weight']\n",
            "You should probably TRAIN this model on a down-stream task to be able to use it for predictions and inference.\n"
          ]
        }
      ],
      "source": [
        "classifier = BertClassifier(\n",
        "        model_path='cointegrated/rubert-tiny',\n",
        "        tokenizer_path='cointegrated/rubert-tiny',\n",
        "        n_classes=10,\n",
        "        epochs=10,\n",
        "        model_save_path='/content/bert_10_cat.pt'\n",
        ")"
      ]
    },
    {
      "cell_type": "markdown",
      "metadata": {
        "id": "5dc-F_9vFGb1"
      },
      "source": [
        "Prepare data and helpers for train and evlauation"
      ]
    },
    {
      "cell_type": "code",
      "execution_count": 17,
      "metadata": {
        "colab": {
          "base_uri": "https://localhost:8080/"
        },
        "id": "KoB7lDv_8AWe",
        "outputId": "7be32c3f-41fe-4756-a9e4-6c6a5a1d46e5"
      },
      "outputs": [
        {
          "name": "stderr",
          "output_type": "stream",
          "text": [
            "/usr/local/lib/python3.10/dist-packages/transformers/optimization.py:411: FutureWarning: This implementation of AdamW is deprecated and will be removed in a future version. Use the PyTorch implementation torch.optim.AdamW instead, or set `no_deprecation_warning=True` to disable this warning\n",
            "  warnings.warn(\n"
          ]
        }
      ],
      "source": [
        "classifier.preparation(\n",
        "        X_train=list(train_data['text']),\n",
        "        y_train=list(train_data['label']),\n",
        "        X_valid=list(valid_data['text']),\n",
        "        y_valid=list(valid_data['label'])\n",
        "    )"
      ]
    },
    {
      "cell_type": "markdown",
      "metadata": {
        "id": "eUVTfpC5FPsr"
      },
      "source": [
        "Train loop"
      ]
    },
    {
      "cell_type": "code",
      "execution_count": null,
      "metadata": {
        "colab": {
          "base_uri": "https://localhost:8080/"
        },
        "id": "Pj_RQTCB9dNJ",
        "outputId": "9e5d906e-288c-49b5-9df3-ae2b2adea5b7"
      },
      "outputs": [
        {
          "name": "stdout",
          "output_type": "stream",
          "text": [
            "Epoch 1/10\n"
          ]
        }
      ],
      "source": [
        "classifier.train()"
      ]
    },
    {
      "cell_type": "markdown",
      "metadata": {
        "id": "yPqZPcTmFTSd"
      },
      "source": [
        "Check test data"
      ]
    },
    {
      "cell_type": "code",
      "execution_count": null,
      "metadata": {
        "id": "B1jAxkTkBEMv"
      },
      "outputs": [],
      "source": [
        "texts = list(test_data['text'])\n",
        "labels = list(test_data['label'])\n",
        "\n",
        "predictions = [classifier.predict(t) for t in texts]"
      ]
    },
    {
      "cell_type": "code",
      "execution_count": null,
      "metadata": {
        "id": "xhJosdy6Bn0o"
      },
      "outputs": [],
      "source": [
        "from sklearn.metrics import precision_recall_fscore_support\n",
        "\n",
        "precision, recall, f1score = precision_recall_fscore_support(labels, predictions,average='macro')[:3]\n",
        "\n",
        "print(f'precision: {precision}, recall: {recall}, f1score: {f1score}')"
      ]
    },
    {
      "cell_type": "code",
      "execution_count": 47,
      "metadata": {
        "colab": {
          "base_uri": "https://localhost:8080/"
        },
        "id": "az-HKMVOOJp9",
        "outputId": "3d776d57-b548-48e3-abf7-b9afbdad8b44"
      },
      "outputs": [
        {
          "data": {
            "text/plain": [
              "1"
            ]
          },
          "execution_count": 47,
          "metadata": {},
          "output_type": "execute_result"
        }
      ],
      "source": [
        "classifier.predict('Создаём сложные 3D-модели по текстовому запросу')"
      ]
    },
    {
      "cell_type": "code",
      "execution_count": 19,
      "metadata": {
        "colab": {
          "base_uri": "https://localhost:8080/"
        },
        "id": "06M_ZAesW7Pv",
        "outputId": "a03963e4-1dd8-4610-8f00-33a7107af2eb"
      },
      "outputs": [
        {
          "name": "stdout",
          "output_type": "stream",
          "text": [
            "1\n",
            "1\n",
            "1\n",
            "1\n",
            "1\n",
            "0\n",
            "0\n",
            "0\n",
            "0\n",
            "0\n"
          ]
        }
      ],
      "source": [
        "print(classifier.predict('Я люблю пиво'))\n",
        "print(classifier.predict('Я люблю тебя'))\n",
        "print(classifier.predict('Я люблю тебя'))\n",
        "print(classifier.predict('Я люблю тебя'))\n",
        "print(classifier.predict('Я люблю тебя'))\n",
        "print(classifier.predict('Я ненавижу тебя'))\n",
        "print(classifier.predict('Я ненавижу тебя'))\n",
        "print(classifier.predict('Я ненавижу тебя'))\n",
        "print(classifier.predict('Я ненавижу тебя'))\n",
        "print(classifier.predict('Я ненавижу тебя'))"
      ]
    },
    {
      "cell_type": "code",
      "execution_count": 20,
      "metadata": {
        "id": "saWcqswXdWIy"
      },
      "outputs": [],
      "source": [
        "import torch"
      ]
    },
    {
      "cell_type": "code",
      "execution_count": 21,
      "metadata": {
        "id": "vLyxC6erdHn5"
      },
      "outputs": [],
      "source": [
        "model = torch.load('/content/bert.pt')"
      ]
    },
    {
      "cell_type": "code",
      "execution_count": 23,
      "metadata": {
        "id": "nCo17HfXd-DH"
      },
      "outputs": [],
      "source": [
        "classifier.model = model"
      ]
    },
    {
      "cell_type": "code",
      "execution_count": 24,
      "metadata": {
        "colab": {
          "base_uri": "https://localhost:8080/"
        },
        "id": "he1Yzsu6eCJd",
        "outputId": "c4f1a62a-0526-483b-cbbc-b248dcb0b2f4"
      },
      "outputs": [
        {
          "name": "stdout",
          "output_type": "stream",
          "text": [
            "1\n",
            "1\n",
            "1\n",
            "1\n",
            "1\n",
            "0\n",
            "0\n",
            "0\n",
            "0\n",
            "0\n"
          ]
        }
      ],
      "source": [
        "print(classifier.predict('Я люблю пиво'))\n",
        "print(classifier.predict('Я люблю тебя'))\n",
        "print(classifier.predict('Я люблю тебя'))\n",
        "print(classifier.predict('Я люблю тебя'))\n",
        "print(classifier.predict('Я люблю тебя'))\n",
        "print(classifier.predict('Я ненавижу тебя'))\n",
        "print(classifier.predict('Я ненавижу тебя'))\n",
        "print(classifier.predict('Я ненавижу тебя'))\n",
        "print(classifier.predict('Я ненавижу тебя'))\n",
        "print(classifier.predict('Я ненавижу тебя'))"
      ]
    }
  ],
  "metadata": {
    "accelerator": "GPU",
    "colab": {
      "gpuType": "T4",
      "provenance": []
    },
    "kernelspec": {
      "display_name": "Python 3",
      "name": "python3"
    },
    "language_info": {
      "name": "python"
    }
  },
  "nbformat": 4,
  "nbformat_minor": 0
}
